{
  "nbformat": 4,
  "nbformat_minor": 0,
  "metadata": {
    "colab": {
      "provenance": [],
      "authorship_tag": "ABX9TyPQsSK3lF+j7iuE/gsq08HT",
      "include_colab_link": true
    },
    "kernelspec": {
      "name": "python3",
      "display_name": "Python 3"
    },
    "language_info": {
      "name": "python"
    }
  },
  "cells": [
    {
      "cell_type": "markdown",
      "metadata": {
        "id": "view-in-github",
        "colab_type": "text"
      },
      "source": [
        "<a href=\"https://colab.research.google.com/github/Ayan0314/Madlibs_Assigment/blob/main/Project_1_Mad_libs_Python_Project.ipynb\" target=\"_parent\"><img src=\"https://colab.research.google.com/assets/colab-badge.svg\" alt=\"Open In Colab\"/></a>"
      ]
    },
    {
      "cell_type": "markdown",
      "source": [
        "# **Mad libs**"
      ],
      "metadata": {
        "id": "gAmIhmLBk7lz"
      }
    },
    {
      "cell_type": "code",
      "execution_count": null,
      "metadata": {
        "colab": {
          "base_uri": "https://localhost:8080/"
        },
        "id": "Y8LZKuCAZkuF",
        "outputId": "0562bd25-29a0-4968-a1b1-9a6b35cd3023"
      },
      "outputs": [
        {
          "output_type": "stream",
          "name": "stdout",
          "text": [
            "Enter Your Name.. Ayan\n",
            "Enter Your City Name.. Karachi\n",
            "Enter Your Verb.. bhag\n",
            "Enter Your Animal Name.. Cow\n",
            "Enter Your Adjective.. darpok\n",
            "\n",
            "📝 Aapki Mad Libs kahani tayar hai:\n",
            "\n",
            "--------------------------------------------------\n",
            "Ek din, Ayan Karachi gaya. Waha usne ek darpok Cow \n",
            "dekha jo bhag raha tha. Ya dekh kar, Ayan bohot hairan hoa!\n",
            "--------------------------------------------------\n"
          ]
        }
      ],
      "source": [
        "name = str(input(\"Enter Your Name.. \"))\n",
        "city = str(input(\"Enter Your City Name.. \"))\n",
        "verb = str(input(\"Enter Your Verb.. \"))\n",
        "animal = str(input(\"Enter Your Animal Name.. \"))\n",
        "adjective = str(input(\"Enter Your Adjective.. \"))\n",
        "\n",
        "story = f\"\"\"Ek din, {name} {city} gaya. Waha usne ek {adjective} {animal}\n",
        "dekha jo {verb} raha tha. Ya dekh kar, {name} bohot hairan hoa!\"\"\"\n",
        "\n",
        "print(\"\\n📝 Aapki Mad Libs kahani tayar hai:\\n\")\n",
        "print(\"--------------------------------------------------\")\n",
        "print(story)\n",
        "print(\"--------------------------------------------------\")"
      ]
    }
  ]
}